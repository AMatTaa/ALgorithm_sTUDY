{
 "cells": [
  {
   "cell_type": "code",
   "execution_count": 14,
   "id": "002e0523",
   "metadata": {},
   "outputs": [
    {
     "name": "stdout",
     "output_type": "stream",
     "text": [
      "5 6 6\n",
      "1 1\n",
      "3 1\n",
      "5 2\n",
      "4 3\n",
      "2 3\n",
      "1 4\n",
      "2\n"
     ]
    }
   ],
   "source": [
    "# 15684 사다리 조작\n",
    "col,row,pos = input().split(' ')\n",
    "row_list=[]\n",
    "for i in range(0,int(row)):\n",
    "    position = list(map(int,input().split(' ')))\n",
    "    row_list.append(position[1])\n",
    "\n",
    "cnt = 0\n",
    "for j in row_list:\n",
    "    if row_list.count(j) != 2:\n",
    "        cnt += 1\n",
    "      \n",
    "    \n",
    "if int(row)==0:\n",
    "    print(0)\n",
    "else:\n",
    "    if cnt==0 or cnt > 3:\n",
    "        print(-1)\n",
    "    else:\n",
    "        print(cnt)\n",
    "    "
   ]
  },
  {
   "cell_type": "code",
   "execution_count": null,
   "id": "234fa572",
   "metadata": {},
   "outputs": [],
   "source": []
  }
 ],
 "metadata": {
  "kernelspec": {
   "display_name": "Python 3 (ipykernel)",
   "language": "python",
   "name": "python3"
  },
  "language_info": {
   "codemirror_mode": {
    "name": "ipython",
    "version": 3
   },
   "file_extension": ".py",
   "mimetype": "text/x-python",
   "name": "python",
   "nbconvert_exporter": "python",
   "pygments_lexer": "ipython3",
   "version": "3.9.9"
  }
 },
 "nbformat": 4,
 "nbformat_minor": 5
}
