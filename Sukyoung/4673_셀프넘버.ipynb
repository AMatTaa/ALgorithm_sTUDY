{
 "cells": [
  {
   "cell_type": "code",
   "execution_count": null,
   "id": "80aa8df7",
   "metadata": {},
   "outputs": [],
   "source": [
    "#4673 셀프넘버\n",
    "\n",
    "num_list=[]\n",
    "for i in range (1,10001):\n",
    "    i+= sum(map(int,list(str(i))))\n",
    "    num_list.append(i)\n",
    "\n",
    "for i in range(1,10001):\n",
    "    if i not in num_list:\n",
    "        print(i)"
   ]
  }
 ],
 "metadata": {
  "kernelspec": {
   "display_name": "Python 3 (ipykernel)",
   "language": "python",
   "name": "python3"
  },
  "language_info": {
   "codemirror_mode": {
    "name": "ipython",
    "version": 3
   },
   "file_extension": ".py",
   "mimetype": "text/x-python",
   "name": "python",
   "nbconvert_exporter": "python",
   "pygments_lexer": "ipython3",
   "version": "3.9.9"
  }
 },
 "nbformat": 4,
 "nbformat_minor": 5
}
