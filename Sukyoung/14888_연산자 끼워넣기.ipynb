{
 "cells": [
  {
   "cell_type": "code",
   "execution_count": 21,
   "id": "a11e9ae3",
   "metadata": {},
   "outputs": [
    {
     "name": "stdout",
     "output_type": "stream",
     "text": [
      "2\n",
      "5 6\n",
      "0 0 1 0\n",
      "30\n",
      "30\n"
     ]
    }
   ],
   "source": [
    "# 14888 연산자 끼워넣기\n",
    "from itertools import permutations\n",
    "\n",
    "\n",
    "def calculation(num1,num2,operator):\n",
    "    if operator == '+':\n",
    "        return num1 + num2\n",
    "    elif operator == '-':\n",
    "        return num1 - num2\n",
    "    elif operator== '*':\n",
    "        return num1 * num2\n",
    "    else:\n",
    "        if num1*num2 > 0:\n",
    "            return num1 // num2\n",
    "        else:\n",
    "            return abs(num1) // abs(num2)\n",
    "    \n",
    "        \n",
    "input_num = int(input())\n",
    "num = list(map(int,input().split()))\n",
    "cals = list(map(int,input().split()))\n",
    "\n",
    "cal_list= ['+']*cals[0] + ['-']*cals[1] + ['*']*cals[2] + ['/']*cals[3]\n",
    "calcul_lists = list(permutations(cal_list,len(cal_list)))\n",
    "\n",
    "result= []\n",
    "\n",
    "for calcul_list in calcul_lists:\n",
    "    ans=num[0]\n",
    "    for i in range(len(num)-1):\n",
    "        answer = calculation(ans,num[i+1],calcul_list[i])\n",
    "        ans = answer\n",
    "    result.append(answer)\n",
    "        \n",
    "    \n",
    "print(max(result))\n",
    "print(min(result))"
   ]
  },
  {
   "cell_type": "code",
   "execution_count": null,
   "id": "45eb2044",
   "metadata": {},
   "outputs": [],
   "source": []
  },
  {
   "cell_type": "code",
   "execution_count": null,
   "id": "6c0c0bb1",
   "metadata": {},
   "outputs": [],
   "source": []
  },
  {
   "cell_type": "code",
   "execution_count": null,
   "id": "92a20641",
   "metadata": {},
   "outputs": [],
   "source": []
  }
 ],
 "metadata": {
  "kernelspec": {
   "display_name": "Python 3 (ipykernel)",
   "language": "python",
   "name": "python3"
  },
  "language_info": {
   "codemirror_mode": {
    "name": "ipython",
    "version": 3
   },
   "file_extension": ".py",
   "mimetype": "text/x-python",
   "name": "python",
   "nbconvert_exporter": "python",
   "pygments_lexer": "ipython3",
   "version": "3.9.9"
  }
 },
 "nbformat": 4,
 "nbformat_minor": 5
}
