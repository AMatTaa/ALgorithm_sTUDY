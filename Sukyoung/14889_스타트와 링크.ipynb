{
 "cells": [
  {
   "cell_type": "code",
   "execution_count": 79,
   "id": "7f4438dd",
   "metadata": {},
   "outputs": [
    {
     "name": "stdout",
     "output_type": "stream",
     "text": [
      "6\n",
      "0 1 2 3 4 5\n",
      "1 0 2 3 4 5\n",
      "1 2 0 3 4 5\n",
      "1 2 3 0 4 5\n",
      "1 2 3 4 0 5\n",
      "1 2 3 4 5 0\n",
      "2\n"
     ]
    }
   ],
   "source": [
    "# 14889 스타트와 링크\n",
    "from itertools import combinations\n",
    "N = int(input())\n",
    "\n",
    "stats=[]\n",
    "for n in range(N):\n",
    "    stat = list(map(int,input().split()))\n",
    "    stats.append(stat)\n",
    "       \n",
    "person = list(range(2,N+1))\n",
    "teams = list(combinations(person,int(N/2-1)))\n",
    "teams2=[]\n",
    "pre_teams1=[]\n",
    "\n",
    "for i in teams:\n",
    "    person = list(range(2,N+1))\n",
    "    for j in i:\n",
    "        person.remove(j)\n",
    "    teams2.append(person)\n",
    "    pre_teams1.append(i)\n",
    "    \n",
    "teams1=[]\n",
    "for team1 in pre_teams1:\n",
    "    teams1.append(list(team1)+[1])\n",
    "\n",
    "    # 여기까지 teams1, teams2 구성 완료\n",
    "\n",
    "stats1=[]\n",
    "for team1 in teams1:\n",
    "    stat1=0\n",
    "    for i in team1:\n",
    "        for j in team1:\n",
    "            stat1+=stats[i-1][j-1]\n",
    "    stats1.append(stat1)\n",
    "    \n",
    "stats2=[]\n",
    "for team2 in teams2:\n",
    "    stat2=0\n",
    "    for i in team2:\n",
    "        for j in team2:\n",
    "            stat2+=stats[i-1][j-1]\n",
    "    stats2.append(stat2)\n",
    "    \n",
    "gap=[]\n",
    "for i in range(len(stats1)):\n",
    "    gap.append(abs(stats1[i] - stats2[i]))\n",
    "    \n",
    "print(min(gap))   "
   ]
  },
  {
   "cell_type": "markdown",
   "id": "424e9778",
   "metadata": {},
   "source": [
    "#### "
   ]
  },
  {
   "cell_type": "code",
   "execution_count": null,
   "id": "a7cc710f",
   "metadata": {},
   "outputs": [],
   "source": []
  },
  {
   "cell_type": "code",
   "execution_count": null,
   "id": "cf0935de",
   "metadata": {},
   "outputs": [],
   "source": []
  }
 ],
 "metadata": {
  "kernelspec": {
   "display_name": "Python 3 (ipykernel)",
   "language": "python",
   "name": "python3"
  },
  "language_info": {
   "codemirror_mode": {
    "name": "ipython",
    "version": 3
   },
   "file_extension": ".py",
   "mimetype": "text/x-python",
   "name": "python",
   "nbconvert_exporter": "python",
   "pygments_lexer": "ipython3",
   "version": "3.9.9"
  }
 },
 "nbformat": 4,
 "nbformat_minor": 5
}
