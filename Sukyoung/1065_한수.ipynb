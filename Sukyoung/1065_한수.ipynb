{
 "cells": [
  {
   "cell_type": "code",
   "execution_count": 1,
   "id": "6a02db00",
   "metadata": {},
   "outputs": [
    {
     "name": "stdout",
     "output_type": "stream",
     "text": [
      "210\n",
      "105\n"
     ]
    }
   ],
   "source": [
    "#1065 한수\n",
    "\n",
    "n = int(input())\n",
    "if n>99:\n",
    "    cnt = 0\n",
    "    for i in range(110,n+1):\n",
    "        num = list(map(int,list(str(i))))\n",
    "        if (num[2]-num[1]) == (num[1]-num[0]):\n",
    "            cnt += 1\n",
    "    print(99 + cnt)\n",
    "else:\n",
    "    print(n)\n",
    "  "
   ]
  },
  {
   "cell_type": "code",
   "execution_count": null,
   "id": "0b4835fb",
   "metadata": {},
   "outputs": [],
   "source": []
  }
 ],
 "metadata": {
  "kernelspec": {
   "display_name": "Python 3 (ipykernel)",
   "language": "python",
   "name": "python3"
  },
  "language_info": {
   "codemirror_mode": {
    "name": "ipython",
    "version": 3
   },
   "file_extension": ".py",
   "mimetype": "text/x-python",
   "name": "python",
   "nbconvert_exporter": "python",
   "pygments_lexer": "ipython3",
   "version": "3.9.9"
  }
 },
 "nbformat": 4,
 "nbformat_minor": 5
}
