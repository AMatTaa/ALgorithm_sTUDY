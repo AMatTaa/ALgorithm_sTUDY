{
 "cells": [
  {
   "cell_type": "code",
   "execution_count": null,
   "id": "77e92bd2",
   "metadata": {},
   "outputs": [],
   "source": [
    "# 10870 피보나치 수열\n",
    "\n",
    "def Fibonacci(n):\n",
    "    if n <=1:\n",
    "        return n\n",
    "    else:\n",
    "        return Fibonacci(n-1) + Fibonacci(n-2)\n",
    "\n",
    "num = int(input())\n",
    "print(Fibonacci(num))"
   ]
  }
 ],
 "metadata": {
  "kernelspec": {
   "display_name": "Python 3 (ipykernel)",
   "language": "python",
   "name": "python3"
  },
  "language_info": {
   "codemirror_mode": {
    "name": "ipython",
    "version": 3
   },
   "file_extension": ".py",
   "mimetype": "text/x-python",
   "name": "python",
   "nbconvert_exporter": "python",
   "pygments_lexer": "ipython3",
   "version": "3.9.9"
  }
 },
 "nbformat": 4,
 "nbformat_minor": 5
}
