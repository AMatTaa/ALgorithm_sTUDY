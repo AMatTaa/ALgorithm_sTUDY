{
 "cells": [
  {
   "cell_type": "code",
   "execution_count": null,
   "id": "69f6d503",
   "metadata": {},
   "outputs": [],
   "source": [
    "#15596 정수 n개의 합\n",
    "\n",
    "def sumfnc(num_list):\n",
    "    return sum(num_list)"
   ]
  }
 ],
 "metadata": {
  "kernelspec": {
   "display_name": "Python 3 (ipykernel)",
   "language": "python",
   "name": "python3"
  },
  "language_info": {
   "codemirror_mode": {
    "name": "ipython",
    "version": 3
   },
   "file_extension": ".py",
   "mimetype": "text/x-python",
   "name": "python",
   "nbconvert_exporter": "python",
   "pygments_lexer": "ipython3",
   "version": "3.9.9"
  }
 },
 "nbformat": 4,
 "nbformat_minor": 5
}
