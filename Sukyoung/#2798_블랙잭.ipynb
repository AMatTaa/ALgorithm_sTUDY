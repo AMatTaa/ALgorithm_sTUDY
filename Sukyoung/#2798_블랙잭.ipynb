{
 "cells": [
  {
   "cell_type": "code",
   "execution_count": 27,
   "id": "d34829d3",
   "metadata": {},
   "outputs": [
    {
     "name": "stdout",
     "output_type": "stream",
     "text": [
      "10 500\n",
      "93 181 245 214 315 36 185 138 216 295\n",
      "497\n"
     ]
    }
   ],
   "source": [
    "# 2798 블랙잭\n",
    "\n",
    "from itertools import combinations\n",
    "\n",
    "card, limit = (input().split(' '))\n",
    "num_list = list(map(int,input().split(' ')))\n",
    "\n",
    "# limit을 넘는 숫자 거르기\n",
    "\n",
    "card_list = [num for num in num_list if num < int(limit)]\n",
    "\n",
    "# 원소가 3개인 조합 만들기\n",
    "\n",
    "combis = combinations(card_list,3)\n",
    "\n",
    "# 원소 3개의 합 중 limit을 넘는 것을 거르고, limit과 차이가 가장 적은 순으로 정렬 \n",
    "\n",
    "sum_list = [sum(combi) - int(limit) for combi in combis if sum(combi)<=int(limit)]\n",
    "sum_list.sort(key=lambda x:abs(x))\n",
    "\n",
    "print(int(limit)+sum_list[0])\n"
   ]
  }
 ],
 "metadata": {
  "kernelspec": {
   "display_name": "Python 3 (ipykernel)",
   "language": "python",
   "name": "python3"
  },
  "language_info": {
   "codemirror_mode": {
    "name": "ipython",
    "version": 3
   },
   "file_extension": ".py",
   "mimetype": "text/x-python",
   "name": "python",
   "nbconvert_exporter": "python",
   "pygments_lexer": "ipython3",
   "version": "3.9.9"
  }
 },
 "nbformat": 4,
 "nbformat_minor": 5
}
