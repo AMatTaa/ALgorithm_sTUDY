{
 "cells": [
  {
   "cell_type": "code",
   "execution_count": 12,
   "id": "8438e9bd",
   "metadata": {},
   "outputs": [
    {
     "name": "stdout",
     "output_type": "stream",
     "text": [
      "6\n",
      "20 1 15 8 4 10\n",
      "62\n"
     ]
    }
   ],
   "source": [
    "#10819 차이를 최대로\n",
    "from itertools import permutations\n",
    "\n",
    "num = int(input())\n",
    "num_list = list(map(int,input().split(' ')))\n",
    "\n",
    "all_list = list(permutations(num_list,num))\n",
    "\n",
    "result=[]\n",
    "for numbers in all_list:\n",
    "    sum_list=[]\n",
    "    for i in range(len(numbers)-1):\n",
    "        sum_list.append(abs(numbers[i]-numbers[i+1]))\n",
    "    result.append(sum(sum_list))\n",
    "    \n",
    "print(max(result))\n",
    "\n",
    "\n"
   ]
  },
  {
   "cell_type": "markdown",
   "id": "cbe029ed",
   "metadata": {},
   "source": []
  }
 ],
 "metadata": {
  "kernelspec": {
   "display_name": "Python 3 (ipykernel)",
   "language": "python",
   "name": "python3"
  },
  "language_info": {
   "codemirror_mode": {
    "name": "ipython",
    "version": 3
   },
   "file_extension": ".py",
   "mimetype": "text/x-python",
   "name": "python",
   "nbconvert_exporter": "python",
   "pygments_lexer": "ipython3",
   "version": "3.9.9"
  }
 },
 "nbformat": 4,
 "nbformat_minor": 5
}
