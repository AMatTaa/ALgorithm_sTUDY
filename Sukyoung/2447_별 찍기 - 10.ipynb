{
 "cells": [
  {
   "cell_type": "code",
   "execution_count": 21,
   "id": "93952968",
   "metadata": {},
   "outputs": [
    {
     "name": "stdout",
     "output_type": "stream",
     "text": [
      "\n",
      "\n",
      "***\n",
      "* *\n",
      "***\n",
      "***\n",
      "* *\n",
      "***\n",
      "***\n",
      "* *\n",
      "***\n",
      "\n",
      "***\n",
      "* *\n",
      "***   \n",
      "***\n",
      "* *\n",
      "***\n",
      "\n",
      "***\n",
      "* *\n",
      "***\n",
      "***\n",
      "* *\n",
      "***\n",
      "***\n",
      "* *\n",
      "***\n"
     ]
    }
   ],
   "source": [
    "def star(n):\n",
    "    if n==1:\n",
    "        return '*'\n",
    "    else:\n",
    "        return '\\n' +(star(n/3)*3)+ '\\n' + (star(n/3))+(\" \"*int(n/3))+(star(n/3)) + '\\n' + (star(n/3)*3)\n",
    "       \n",
    "print(star(9))"
   ]
  },
  {
   "cell_type": "code",
   "execution_count": null,
   "id": "9a6e8cd5",
   "metadata": {},
   "outputs": [],
   "source": [
    "#        (star(n/3)*3)+ '\\n' + (star(n/3))+(\" \"*len(star(n/3)))+(star(n/3)) + '\\n' + (star(n/3)*3)\n",
    "#          \\n{star(n/3)*3}\\n{star(n/3)}{\" \"*len(star(n/3))}{star(n/3)}\\n{star(n/3)*3"
   ]
  }
 ],
 "metadata": {
  "kernelspec": {
   "display_name": "Python 3 (ipykernel)",
   "language": "python",
   "name": "python3"
  },
  "language_info": {
   "codemirror_mode": {
    "name": "ipython",
    "version": 3
   },
   "file_extension": ".py",
   "mimetype": "text/x-python",
   "name": "python",
   "nbconvert_exporter": "python",
   "pygments_lexer": "ipython3",
   "version": "3.9.9"
  }
 },
 "nbformat": 4,
 "nbformat_minor": 5
}
